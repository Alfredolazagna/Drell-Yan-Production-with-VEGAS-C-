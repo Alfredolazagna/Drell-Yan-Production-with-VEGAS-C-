{
 "cells": [
  {
   "cell_type": "code",
   "execution_count": 1,
   "id": "137a6a5a-6c03-448f-b48c-94ce8884eb7c",
   "metadata": {},
   "outputs": [],
   "source": [
    "import numpy as np\n",
    "import matplotlib as mpl\n",
    "import matplotlib.pyplot as plt"
   ]
  },
  {
   "cell_type": "code",
   "execution_count": 89,
   "id": "8dd92de5-9087-4576-8c76-0502c11c2942",
   "metadata": {},
   "outputs": [
    {
     "name": "stdout",
     "output_type": "stream",
     "text": [
      "5.6951248831327665e-05\n"
     ]
    }
   ],
   "source": [
    "#Preparation\n",
    "Qe = -1\n",
    "Ve = -1/2 + 2*(0.222246)\n",
    "Ae = -0.50\n",
    "Vm = -1/2 + 2*(0.222246)\n",
    "Am = -0.50\n",
    "alpha = 1/132.507\n",
    "GF = 1.16639e-5\n",
    "MZ = 91.188\n",
    "GammaZ = 2.4414\n",
    "\n",
    "XMIN = 0.0\n",
    "YMIN = 0.0\n",
    "XMAX = 5.0\n",
    "YMAX = 5.0\n",
    "\n",
    "# Function to calculate chi1(s)\n",
    "def chi1(s):\n",
    "    kappa = np.sqrt(2) * GF * MZ**2 / (4 * np.pi * alpha)\n",
    "    return kappa * s * (s - MZ**2) / ((s - MZ**2)**2 + GammaZ**2 * MZ**2)\n",
    "\n",
    "# Function to calculate chi2(s)\n",
    "def chi2(s):\n",
    "    kappa = np.sqrt(2) * GF * MZ**2 / (4 * np.pi * alpha)\n",
    "    return kappa**2 * s**2 / ((s - MZ**2)**2 + GammaZ**2 * MZ**2)\n",
    "\n",
    "# Coefficients A0(s) and A1(s)\n",
    "def A0(s):\n",
    "    return Qe**2 - 2 * Qe * Ve * Vm * chi1(s) + (Am**2 + Vm**2) * (Ae**2 + Ve**2) * chi2(s)\n",
    "\n",
    "def A1(s):\n",
    "    return -4 * Qe * Am * Ae * chi1(s) + 8 * Am * Vm * Ae * Ve * chi2(s)\n",
    "\n",
    "# Differential cross section function\n",
    "def diff_cross_section(s, cos_theta):\n",
    "    return alpha**2 / (4 * s) * (A0(s) * (1 + cos_theta**2) + A1(s) * cos_theta)\n",
    "\n",
    "print(diff_cross_section(0.5, 1))"
   ]
  },
  {
   "cell_type": "code",
   "execution_count": 3,
   "id": "0d8ab76a-fd6a-4a73-8043-c00498743488",
   "metadata": {},
   "outputs": [
    {
     "name": "stdout",
     "output_type": "stream",
     "text": [
      " f_val=6.696541420322152e-07 exceeds F_VAL_MAX=6.631486904825394e-07, program will now exit\n",
      " f_val=6.633291630888075e-07 exceeds F_VAL_MAX=6.631486904825394e-07, program will now exit\n",
      " f_val=6.777396135790392e-07 exceeds F_VAL_MAX=6.631486904825394e-07, program will now exit\n",
      " f_val=6.684942132608976e-07 exceeds F_VAL_MAX=6.631486904825394e-07, program will now exit\n",
      " f_val=6.776847141826566e-07 exceeds F_VAL_MAX=6.631486904825394e-07, program will now exit\n",
      " f_val=6.665661788964468e-07 exceeds F_VAL_MAX=6.631486904825394e-07, program will now exit\n",
      "649218\n"
     ]
    }
   ],
   "source": [
    "s_min, s_max = 10**2, 200**2\n",
    "cos_theta_min, cos_theta_max = -1, 1\n",
    "\n",
    "# Sampling differential cross-section over the domain to find the maximum value\n",
    "sampled_values = []\n",
    "for _ in range(100000):\n",
    "    random_s = np.random.uniform(s_min, s_max)\n",
    "    random_cos_theta = np.random.uniform(cos_theta_min, cos_theta_max)\n",
    "    value = diff_cross_section(random_s, random_cos_theta)\n",
    "    sampled_values.append(value)\n",
    "\n",
    "F_VAL_MAX = max(sampled_values)\n",
    "\n",
    "            \n",
    "#Part a\n",
    "def brute_force(nPoints, seed=None):\n",
    "    nFunctionEval = 0\n",
    "    s_rej_method = []\n",
    "    cos_theta_rej_method = []\n",
    "    maxWeightEncounteredRej = -1.0e20\n",
    "    generator = np.random.RandomState(seed=seed)\n",
    "    \n",
    "    while len(s_rej_method) < nPoints:\n",
    "        rr = generator.uniform(size=3)\n",
    "        random_s = np.random.uniform(s_min, s_max)\n",
    "        random_cos_theta = np.random.uniform(cos_theta_min, cos_theta_max)\n",
    "        random_value = np.random.uniform(0, F_VAL_MAX)\n",
    "        nFunctionEval += 1\n",
    "        f_val = diff_cross_section(random_s, random_cos_theta)\n",
    "        if f_val > maxWeightEncounteredRej:\n",
    "            maxWeightEncounteredRej = f_val\n",
    "        if f_val > F_VAL_MAX:\n",
    "            print(\n",
    "                f\" f_val={f_val} exceeds F_VAL_MAX={F_VAL_MAX}, program will now exit\"\n",
    "            )\n",
    "            exit(99)\n",
    "        if f_val / F_VAL_MAX > rr[2]:\n",
    "            s_rej_method.append(random_s)\n",
    "            cos_theta_rej_method.append(random_cos_theta)\n",
    "    return (s_rej_method, cos_theta_rej_method, nFunctionEval, maxWeightEncounteredRej)\n",
    "\n",
    "s_rej_method, cos_theta_rej_method, nFunctionEval_rej, maxWeightEncounteredReJ = brute_force(10000)\n",
    "print(nFunctionEval_rej)"
   ]
  },
  {
   "cell_type": "code",
   "execution_count": 77,
   "id": "0ce74f0f-d5d7-4ca5-8d11-23d722745795",
   "metadata": {},
   "outputs": [],
   "source": [
    "#part b\n",
    "def setup_intervals(NN=100, KK=2000, nIterations=4000, alpha_damp=1.5, seed=None):\n",
    "    # Define the domain boundaries\n",
    "    SMIN, SMAX = 10**2, 200**2\n",
    "    COSTHETAMIN, COSTHETAMAX = -1, 1  \n",
    "\n",
    "    # Initialize intervals with uniform spacing\n",
    "    sLow = np.linspace(SMIN, SMAX, NN + 1)\n",
    "    cosLow = np.linspace(COSTHETAMIN, COSTHETAMAX, NN + 1)\n",
    "\n",
    "    # Initialize weights for intervals (uniform at start)\n",
    "    weights_s = np.ones(NN)\n",
    "    weights_cos = np.ones(NN)\n",
    "\n",
    "    # Random number generator\n",
    "    rng = np.random.RandomState(seed)\n",
    "\n",
    "    # Iteratively adjust intervals based on function evaluations\n",
    "    for _ in range(nIterations):\n",
    "        # Randomly choose intervals based on current weights\n",
    "        chosen_intervals_s = rng.choice(NN, size=KK, p=weights_s / weights_s.sum())\n",
    "        chosen_intervals_cos = rng.choice(NN, size=KK, p=weights_cos / weights_cos.sum())\n",
    "\n",
    "        # Sample within chosen intervals and evaluate the function\n",
    "        samples_s = sLow[chosen_intervals_s] + rng.rand(KK) * (SMAX - SMIN) / NN\n",
    "        samples_cos = cosLow[chosen_intervals_cos] + rng.rand(KK) * (COSTHETAMAX - COSTHETAMIN) / NN\n",
    "        f_vals = diff_cross_section(samples_s, samples_cos)  # Your differential cross-section function\n",
    "\n",
    "        # Adjust weights based on function evaluations and damping\n",
    "        for i in range(NN):\n",
    "            interval_mask_s = chosen_intervals_s == i\n",
    "            interval_mask_cos = chosen_intervals_cos == i\n",
    "            weights_s[i] *= alpha_damp + (f_vals[interval_mask_s].sum() / KK)\n",
    "            weights_cos[i] *= alpha_damp + (f_vals[interval_mask_cos].sum() / KK)\n",
    "\n",
    "        # Normalize weights to maintain the same total interval size\n",
    "        weights_s /= weights_s.sum() / NN\n",
    "        weights_cos /= weights_cos.sum() / NN\n",
    "\n",
    "        # Recalculate interval boundaries based on new weights\n",
    "        sLow[1:-1] = np.cumsum(weights_s[:-1]) * (SMAX - SMIN) / NN + SMIN\n",
    "        cosLow[1:-1] = np.cumsum(weights_cos[:-1]) * (COSTHETAMAX - COSTHETAMIN) / NN + COSTHETAMIN\n",
    "        \n",
    "        delx = np.diff(sLow)\n",
    "        dely = np.diff(cosLow)\n",
    "\n",
    "    return sLow, cosLow, delx, dely"
   ]
  },
  {
   "cell_type": "code",
   "execution_count": 121,
   "id": "cb911ef0-a4e1-4559-9a17-b6b520c81077",
   "metadata": {
    "scrolled": false
   },
   "outputs": [
    {
     "name": "stdout",
     "output_type": "stream",
     "text": [
      "10663\n"
     ]
    }
   ],
   "source": [
    "def vegas(nPoints, vegasRatioFactor, NN, KK, nIterations, alpha_damp, seed=None):\n",
    "    # Setup initial intervals using the setup_intervals function\n",
    "    COSTHETAMIN, COSTHETAMAX = -1, 1  \n",
    "    \n",
    "    sLow, cosLow, delx, dely = setup_intervals(NN, KK, nIterations, alpha_damp, seed)\n",
    "    vegasRatioMax = vegasRatioFactor * F_VAL_MAX * NN * NN * delx[NN - 2] * dely[NN - 2]\n",
    "\n",
    "    # Initialize variables\n",
    "    nFunctionEval = 0\n",
    "    s = []\n",
    "    cos = []\n",
    "    maxWeightEncountered = -1.0e20\n",
    "\n",
    "    # Random number generator\n",
    "    rng = np.random.RandomState(seed)\n",
    "\n",
    "    # Main loop for sampling and evaluating\n",
    "    while len(s) < nPoints:\n",
    "        # Sample points within the refined intervals\n",
    "        ixLow = rng.randint(0, NN)\n",
    "        iyLow = rng.randint(0, NN)\n",
    "        ss = sLow[ixLow] + delx[ixLow] * rng.uniform()\n",
    "        cosT = cosLow[iyLow] + dely[iyLow] * rng.uniform()\n",
    "\n",
    "        # Evaluate the differential cross-section at the sampled points\n",
    "        f_vals = diff_cross_section(ss, cosT)\n",
    "        ratio = f_vals * NN * NN * delx[ixLow] * dely[iyLow]\n",
    "        nFunctionEval +=1\n",
    "\n",
    "        # Update the maximum weight encountered, if necessary\n",
    "        max_f_val = np.max(f_vals)\n",
    "        if max_f_val > maxWeightEncountered:\n",
    "            maxWeightEncountered = max_f_val\n",
    "\n",
    "        # Store points based on the acceptance criterion\n",
    "        # Accept the point if the Vegas ratio exceeds the vegasRatioFactor threshold\n",
    "        if ratio / vegasRatioMax > rng.uniform():\n",
    "            s.append(ss)\n",
    "            cos.append(cosT)\n",
    "\n",
    "    # Prepare the output\n",
    "    output = (\n",
    "        s,\n",
    "        cos,\n",
    "        nFunctionEval,\n",
    "        maxWeightEncountered,\n",
    "        vegasRatioFactor * max_f_val,  # Maximum Vegas ratio considered for acceptance\n",
    "    )\n",
    "    \n",
    "    return output\n",
    "\n",
    "s_vegas, cos_vegas, nFunctionalEval_vegas, maxweightEncounteredvegas, vegasRatioFactor = vegas(1000, 0.1, 50, 100, 2000, 4000, 1)\n",
    "print(nFunctionalEval_vegas)"
   ]
  },
  {
   "cell_type": "code",
   "execution_count": 122,
   "id": "d7148fcf-722d-491f-b0db-fe7a49b2f76a",
   "metadata": {},
   "outputs": [
    {
     "name": "stdout",
     "output_type": "stream",
     "text": [
      " f_val=6.687946878236332e-07 exceeds F_VAL_MAX=6.631486904825394e-07, program will now exit\n",
      " f_val=6.759619925492814e-07 exceeds F_VAL_MAX=6.631486904825394e-07, program will now exit\n",
      "Acceptance-Rejection Method:\n",
      "Number of function evaluations: 66677\n",
      "Time taken: 1.996596097946167 seconds\n",
      "\n",
      "VEGAS Method:\n",
      "Time taken: 7.866574048995972 seconds\n",
      "Number of function evaluations: 10219\n"
     ]
    }
   ],
   "source": [
    "import time\n",
    "n_events = 1000\n",
    "start_time_ar = time.time()\n",
    "s_rej_method, cos_theta_rej_method, nFunctionEval_rej, maxWeightEncounteredReJ= brute_force(n_events)\n",
    "end_time_ar = time.time()\n",
    "time_ar = end_time_ar - start_time_ar\n",
    "\n",
    "start_time_vegas = time.time()\n",
    "s_vegas, cos_vegas, nFunctionalEval_vegas, maxweightEncounteredvegas,vegasRatioFactor = vegas(n_events,0.1,100,2000,4000,1.5)\n",
    "end_time_vegas = time.time()\n",
    "time_vegas = end_time_vegas - start_time_vegas\n",
    "\n",
    "print(\"Acceptance-Rejection Method:\")\n",
    "print(f\"Number of function evaluations: {nFunctionEval_rej}\")\n",
    "print(f\"Time taken: {time_ar} seconds\")\n",
    "\n",
    "print(\"\\nVEGAS Method:\")\n",
    "print(f\"Time taken: {time_vegas} seconds\")\n",
    "print(f\"Number of function evaluations: {nFunctionalEval_vegas}\")"
   ]
  },
  {
   "cell_type": "code",
   "execution_count": 56,
   "id": "3b967f0a-3268-4486-a6ca-0d44d8373ade",
   "metadata": {},
   "outputs": [
    {
     "ename": "KeyboardInterrupt",
     "evalue": "",
     "output_type": "error",
     "traceback": [
      "\u001b[1;31m---------------------------------------------------------------------------\u001b[0m",
      "\u001b[1;31mKeyboardInterrupt\u001b[0m                         Traceback (most recent call last)",
      "Cell \u001b[1;32mIn[56], line 7\u001b[0m\n\u001b[0;32m      5\u001b[0m \u001b[38;5;28;01mfor\u001b[39;00m i \u001b[38;5;129;01min\u001b[39;00m \u001b[38;5;28menumerate\u001b[39m(events):\n\u001b[0;32m      6\u001b[0m     start_time_ar \u001b[38;5;241m=\u001b[39m time\u001b[38;5;241m.\u001b[39mtime()\n\u001b[1;32m----> 7\u001b[0m     events_ar, function_evaluations_ar \u001b[38;5;241m=\u001b[39m \u001b[43mar_generate_events\u001b[49m\u001b[43m(\u001b[49m\u001b[43mi\u001b[49m\u001b[43m[\u001b[49m\u001b[38;5;241;43m1\u001b[39;49m\u001b[43m]\u001b[49m\u001b[43m)\u001b[49m\n\u001b[0;32m      8\u001b[0m     end_time_ar \u001b[38;5;241m=\u001b[39m time\u001b[38;5;241m.\u001b[39mtime()\n\u001b[0;32m      9\u001b[0m     time_ar \u001b[38;5;241m=\u001b[39m end_time_ar \u001b[38;5;241m-\u001b[39m start_time_ar\n",
      "Cell \u001b[1;32mIn[53], line 13\u001b[0m, in \u001b[0;36mar_generate_events\u001b[1;34m(n_events, seed)\u001b[0m\n\u001b[0;32m     10\u001b[0m f_val \u001b[38;5;241m=\u001b[39m diff_cross_section(E_CM, cos_theta)\n\u001b[0;32m     11\u001b[0m function_evaluations \u001b[38;5;241m+\u001b[39m\u001b[38;5;241m=\u001b[39m \u001b[38;5;241m1\u001b[39m\n\u001b[1;32m---> 13\u001b[0m rr \u001b[38;5;241m=\u001b[39m \u001b[43mgenerator\u001b[49m\u001b[38;5;241;43m.\u001b[39;49m\u001b[43muniform\u001b[49m\u001b[43m(\u001b[49m\u001b[43msize\u001b[49m\u001b[38;5;241;43m=\u001b[39;49m\u001b[38;5;241;43m1\u001b[39;49m\u001b[43m)\u001b[49m\n\u001b[0;32m     14\u001b[0m \u001b[38;5;28;01mif\u001b[39;00m f_val \u001b[38;5;241m/\u001b[39m F_VAL_MAX \u001b[38;5;241m>\u001b[39m rr[\u001b[38;5;241m0\u001b[39m]:\n\u001b[0;32m     15\u001b[0m     events\u001b[38;5;241m.\u001b[39mappend((E_CM, cos_theta))\n",
      "\u001b[1;31mKeyboardInterrupt\u001b[0m: "
     ]
    }
   ],
   "source": [
    "import tqdm\n",
    "events = [10, 100, 1000, 10000, 100000, 300000, 700000, 1000000]\n",
    "ar_times = []\n",
    "vegas_times = []\n",
    "for i in enumerate(events):\n",
    "    start_time_ar = time.time()\n",
    "    events_ar, function_evaluations_ar = ar_generate_events(i[1])\n",
    "    end_time_ar = time.time()\n",
    "    time_ar = end_time_ar - start_time_ar\n",
    "    ar_times.append(time_ar)\n",
    "\n",
    "    start_time_vegas = time.time()\n",
    "    events_vegas = vegas_generate_events(i[1])\n",
    "    end_time_vegas = time.time()\n",
    "    time_vegas = end_time_vegas - start_time_vegas\n",
    "    vegas_times.append(time_vegas)\n",
    "plt.plot(events,vegas_times)\n",
    "plt.plot(events,ar_times)\n",
    "plt.show()"
   ]
  },
  {
   "cell_type": "code",
   "execution_count": 33,
   "id": "3508c8f0-43e5-4eb4-bff0-436d84f8ccff",
   "metadata": {},
   "outputs": [
    {
     "name": "stdout",
     "output_type": "stream",
     "text": [
      "10\n",
      "100\n",
      "1000\n",
      "10000\n",
      "100000\n",
      "300000\n",
      "700000\n",
      "1000000\n"
     ]
    }
   ],
   "source": []
  },
  {
   "cell_type": "code",
   "execution_count": null,
   "id": "fcea3bc7-05c8-4be9-a557-72b4b777f719",
   "metadata": {},
   "outputs": [],
   "source": []
  }
 ],
 "metadata": {
  "kernelspec": {
   "display_name": "Python 3 (ipykernel)",
   "language": "python",
   "name": "python3"
  },
  "language_info": {
   "codemirror_mode": {
    "name": "ipython",
    "version": 3
   },
   "file_extension": ".py",
   "mimetype": "text/x-python",
   "name": "python",
   "nbconvert_exporter": "python",
   "pygments_lexer": "ipython3",
   "version": "3.9.5"
  }
 },
 "nbformat": 4,
 "nbformat_minor": 5
}
